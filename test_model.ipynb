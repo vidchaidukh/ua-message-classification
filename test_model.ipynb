{
 "cells": [
  {
   "cell_type": "markdown",
   "metadata": {},
   "source": [
    "## Test trained model"
   ]
  },
  {
   "cell_type": "code",
   "execution_count": 1,
   "metadata": {},
   "outputs": [],
   "source": [
    "import tensorflow as tf \n",
    "import pandas as pd\n",
    "import numpy as np\n",
    "import nltk\n",
    "import re\n",
    "from sklearn.model_selection import train_test_split\n",
    "from tensorflow.keras.preprocessing.text import Tokenizer\n",
    "from tensorflow.keras.layers import Dense,Embedding,Bidirectional,LSTM\n",
    "from tensorflow.keras.preprocessing.sequence import pad_sequences\n",
    "from tree_stem import stem_word, word_to_vec\n",
    "from tokenize_uk import tokenize_words\n",
    "from keras.callbacks import ModelCheckpoint, EarlyStopping, ReduceLROnPlateau\n"
   ]
  },
  {
   "cell_type": "code",
   "execution_count": 2,
   "metadata": {},
   "outputs": [
    {
     "data": {
      "text/plain": [
       "'2.14.0'"
      ]
     },
     "execution_count": 2,
     "metadata": {},
     "output_type": "execute_result"
    }
   ],
   "source": [
    "tf.__version__"
   ]
  },
  {
   "cell_type": "code",
   "execution_count": 3,
   "metadata": {},
   "outputs": [],
   "source": [
    "df = pd.read_csv('messages_dataset.csv') # load dataset\n",
    "class_name = ['economics', 'politics', 'sports', 'entertainment', 'technology']\n",
    "ukrainian_stopwords = list(pd.read_csv(\"stopwords_ua.txt\", header=None, names=['stopwords']).stopwords)"
   ]
  },
  {
   "cell_type": "code",
   "execution_count": null,
   "metadata": {},
   "outputs": [],
   "source": [
    "def get_dataset_equally(df):\n",
    "    grouped = df.groupby(['topic'])\n",
    "    smallest = grouped.count().min().values\n",
    "    try: # Pandas 1.1.0+\n",
    "        return grouped.sample(smallest)\n",
    "    except AttributeError: # Pre-Pandas 1.1.0\n",
    "        return grouped.apply(lambda df: df.sample(smallest))\n",
    "df = get_dataset_equally(df)\n",
    "df.topic.value_counts()"
   ]
  },
  {
   "cell_type": "code",
   "execution_count": 11,
   "metadata": {},
   "outputs": [],
   "source": [
    "\n",
    "# clean dataset messages\n",
    "def clean_message(message):\n",
    "    text = re.sub(\"https?:\\/\\/[\\w+.\\/]+\", \" \", str(message))\n",
    "    text = re.sub('[^a-zабвгґдеєжзиіїйклмнопрстуфхцчшщьюя]', ' ', str(text)).lower()\n",
    "    sen = re.sub(' +',' ',str(text))\n",
    "    words = tokenize_words(sen)\n",
    "    sen = []\n",
    "    for word in words:\n",
    "        if word not in ukrainian_stopwords:\n",
    "            try:\n",
    "                sen.append(stem_word(word))\n",
    "            except:\n",
    "                sen.append(word)\n",
    "\n",
    "    text = ' '.join(sen)\n",
    "    return text.strip()\n"
   ]
  },
  {
   "cell_type": "code",
   "execution_count": 21,
   "metadata": {},
   "outputs": [],
   "source": [
    "corpus = [] \n",
    "x = df.message\n",
    "y = df.topic\n",
    "\n",
    "for msg in x:\n",
    "    corpus.append(clean_message(msg))\n",
    "tokenizer = Tokenizer(oov_token='<OOV>')\n",
    "tokenizer.fit_on_texts(corpus)"
   ]
  },
  {
   "cell_type": "code",
   "execution_count": 22,
   "metadata": {},
   "outputs": [],
   "source": [
    "#load model\n",
    "model = tf.keras.models.load_model(\"lstm-bidir-250words-16batch-07-0.95.keras\")\n"
   ]
  },
  {
   "cell_type": "code",
   "execution_count": 23,
   "metadata": {},
   "outputs": [
    {
     "name": "stdout",
     "output_type": "stream",
     "text": [
      "ов каф afe mariia n n авлівськ х ир n ут шумно людно жив ак ма міськ каф n ідчутт найпрекрасніш иєв з міс ворч легк талановит летюч щаслив погляд мрі велик розмов апрочуд арі вда зібра к юніт мрі заклад n риміщенн мебл перей спад каф  прож менш нов яв велик пекарськ вітрин змін розташуванн посад n ен арі комфортік ут лег зорієнту позиці знайом класно створенн стра допомага шеф звичн рецепт загра нов фарб априклад снідан пода теляч язик ввечер готу круд фен n\n",
      "[[6688, 1705, 1, 56509, 9278, 9278, 1, 448, 1, 9278, 7992, 1, 1, 804, 12721, 20, 803, 1705, 9278, 1, 37019, 1, 14, 49, 1, 1163, 2765, 10516, 3337, 1109, 974, 46, 1128, 1, 19619, 530, 550, 666, 36472, 974, 533, 9278, 1, 6462, 3618, 3547, 1705, 8208, 561, 19, 10232, 46, 1, 14259, 70, 3541, 573, 9278, 11633, 19619, 1, 7992, 1590, 29165, 363, 1278, 10137, 377, 3994, 731, 4244, 3287, 3917, 8894, 19, 7671, 1, 5128, 607, 23018, 11227, 3606, 464, 1, 33048, 9278]]\n",
      "['Нове кафе Cafe mariia ✨\\n📍Де?\\nПавлівська, 26/41 (10 хв від Цирку)\\nТут шумно, людно і дуже живо. Таким і має бути міське кафе.\\nВідчуття, ніби всі найпрекрасніші люди Києва зібрались в одному місці. Творчі, легкі, талановиті, з летючим щасливим поглядом та мріями про велике в розмовах. Напрочуд прекрасно Марії вдалось зібрати власне ком’юніті, про яке, мабуть, мріяв би кожний заклад✨\\nПриміщення та меблі перейшли у спадок від кафе Зоря, яка тут прожила менш як рік. З нового: з’явилась велика пекарська вітрина та трохи змінилось розташування посадки.\\nМеню Марії — комфортік. Тут легко зорієнтуватись, бо всі позиції давно знайомі. Але класно, що у створенні страв допомагали шефи і тому навіть звичні рецепти заграли новими фарбами. Наприклад, на сніданок подають телячий язик, а ввечері готують крудо з фенхелем.\\n']\n",
      "1/1 [==============================] - 3s 3s/step\n",
      "topic is: entertainment\n"
     ]
    }
   ],
   "source": [
    "text_input = [\"\"\"Нове кафе Cafe mariia ✨\n",
    "📍Де?\n",
    "Павлівська, 26/41 (10 хв від Цирку)\n",
    "Тут шумно, людно і дуже живо. Таким і має бути міське кафе.\n",
    "Відчуття, ніби всі найпрекрасніші люди Києва зібрались в одному місці. Творчі, легкі, талановиті, з летючим щасливим поглядом та мріями про велике в розмовах. Напрочуд прекрасно Марії вдалось зібрати власне ком’юніті, про яке, мабуть, мріяв би кожний заклад✨\n",
    "Приміщення та меблі перейшли у спадок від кафе Зоря, яка тут прожила менш як рік. З нового: з’явилась велика пекарська вітрина та трохи змінилось розташування посадки.\n",
    "Меню Марії — комфортік. Тут легко зорієнтуватись, бо всі позиції давно знайомі. Але класно, що у створенні страв допомагали шефи і тому навіть звичні рецепти заграли новими фарбами. Наприклад, на сніданок подають телячий язик, а ввечері готують крудо з фенхелем.\n",
    "\"\"\"]\n",
    "opt_len = 250\n",
    "\n",
    "# clean input message\n",
    "text = clean_message(text_input)\n",
    "\n",
    "print(text)\n",
    "\n",
    "sequence = tokenizer.texts_to_sequences([text])\n",
    "print(sequence)\n",
    "embedding_text = pad_sequences(sequence,padding='post',maxlen=opt_len)\n",
    "print(text_input)\n",
    "print('topic is: {}'.format(class_name[np.argmax(model.predict([embedding_text]))]))"
   ]
  }
 ],
 "metadata": {
  "kernelspec": {
   "display_name": "Python 3",
   "language": "python",
   "name": "python3"
  },
  "language_info": {
   "codemirror_mode": {
    "name": "ipython",
    "version": 3
   },
   "file_extension": ".py",
   "mimetype": "text/x-python",
   "name": "python",
   "nbconvert_exporter": "python",
   "pygments_lexer": "ipython3",
   "version": "3.11.8"
  }
 },
 "nbformat": 4,
 "nbformat_minor": 2
}
